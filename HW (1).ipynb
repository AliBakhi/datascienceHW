{
 "cells": [
  {
   "cell_type": "markdown",
   "metadata": {},
   "source": [
    "<h2>Задание</h2>"
   ]
  },
  {
   "cell_type": "markdown",
   "metadata": {},
   "source": [
    "Провести EDA:\n",
    "\n",
    "1)определение цели анализа (что хотим понять, на какие вопросы будем отвечать?), выдвинуть гипотезы\n",
    "\n",
    "2)работа с пропусками\n",
    "\n",
    "3)выявление зависимостей\n",
    "\n",
    "4)создание новых переменных\n",
    "\n",
    "5)сортировка, фильтрация, группировка\n",
    "\n",
    "6)определение и работа с выбросами\n",
    "\n",
    "7)проверка гипотез\n",
    "\n",
    "8)визуализация\n",
    "\n",
    "9)выводы \n",
    "\n",
    "Используемые статистические методы: критерий согласия хи-квадрат, критерий независимости хи-квадрат, t-тесты (одновыборочный, парный, двухвыборочный)\n",
    "\n",
    "10)На 8+ можно взять один из этих методов: корреляционный анализ, регрессии, кластерный анализ, ANOVA"
   ]
  },
  {
   "cell_type": "markdown",
   "metadata": {},
   "source": [
    "<h2>Используемые Библиотеки</h2>"
   ]
  },
  {
   "cell_type": "code",
   "execution_count": 1,
   "metadata": {},
   "outputs": [],
   "source": [
    "import pandas as pd\n",
    "import numpy as np\n",
    "import matplotlib as plt\n",
    "import matplotlib.pyplot as plt\n",
    "from scipy.stats import ttest_ind,chisquare\n",
    "\n",
    "import pylab\n",
    "import scipy\n",
    "from scipy import stats\n",
    "import statsmodels.api as sm\n",
    "\n",
    "import seaborn as sns\n",
    "\n",
    "import warnings\n",
    "warnings.filterwarnings('ignore')\n"
   ]
  },
  {
   "cell_type": "markdown",
   "metadata": {},
   "source": [
    "<h2>Первичный анализ данных</h2>"
   ]
  },
  {
   "cell_type": "code",
   "execution_count": 2,
   "metadata": {},
   "outputs": [],
   "source": [
    "#Читаем Датасет и устанавливаем название курса в качестве индекса\n",
    "df = pd.read_csv('Coursera.csv',index_col='course')"
   ]
  },
  {
   "cell_type": "code",
   "execution_count": 3,
   "metadata": {},
   "outputs": [
    {
     "data": {
      "text/html": [
       "<div>\n",
       "<style scoped>\n",
       "    .dataframe tbody tr th:only-of-type {\n",
       "        vertical-align: middle;\n",
       "    }\n",
       "\n",
       "    .dataframe tbody tr th {\n",
       "        vertical-align: top;\n",
       "    }\n",
       "\n",
       "    .dataframe thead th {\n",
       "        text-align: right;\n",
       "    }\n",
       "</style>\n",
       "<table border=\"1\" class=\"dataframe\">\n",
       "  <thead>\n",
       "    <tr style=\"text-align: right;\">\n",
       "      <th></th>\n",
       "      <th>partner</th>\n",
       "      <th>skills</th>\n",
       "      <th>rating</th>\n",
       "      <th>reviewcount</th>\n",
       "      <th>level</th>\n",
       "      <th>certificatetype</th>\n",
       "      <th>duration</th>\n",
       "      <th>crediteligibility</th>\n",
       "    </tr>\n",
       "    <tr>\n",
       "      <th>course</th>\n",
       "      <th></th>\n",
       "      <th></th>\n",
       "      <th></th>\n",
       "      <th></th>\n",
       "      <th></th>\n",
       "      <th></th>\n",
       "      <th></th>\n",
       "      <th></th>\n",
       "    </tr>\n",
       "  </thead>\n",
       "  <tbody>\n",
       "    <tr>\n",
       "      <th>Google Cybersecurity</th>\n",
       "      <td>Google</td>\n",
       "      <td>{\" Network Security\",\" Python Programming\",\" L...</td>\n",
       "      <td>4.8</td>\n",
       "      <td>16.4k</td>\n",
       "      <td>Beginner</td>\n",
       "      <td>Professional Certificate</td>\n",
       "      <td>3 - 6 Months</td>\n",
       "      <td>False</td>\n",
       "    </tr>\n",
       "    <tr>\n",
       "      <th>Google Data Analytics</th>\n",
       "      <td>Google</td>\n",
       "      <td>{\" Data Analysis\",\" R Programming\",\" SQL\",\" Bu...</td>\n",
       "      <td>4.8</td>\n",
       "      <td>133.4k</td>\n",
       "      <td>Beginner</td>\n",
       "      <td>Professional Certificate</td>\n",
       "      <td>3 - 6 Months</td>\n",
       "      <td>True</td>\n",
       "    </tr>\n",
       "    <tr>\n",
       "      <th>Google Project Management:</th>\n",
       "      <td>Google</td>\n",
       "      <td>{\" Project Management\",\" Strategy and Operatio...</td>\n",
       "      <td>4.8</td>\n",
       "      <td>97.3k</td>\n",
       "      <td>Beginner</td>\n",
       "      <td>Professional Certificate</td>\n",
       "      <td>3 - 6 Months</td>\n",
       "      <td>True</td>\n",
       "    </tr>\n",
       "    <tr>\n",
       "      <th>Google Digital Marketing &amp; E-commerce</th>\n",
       "      <td>Google</td>\n",
       "      <td>{\" Digital Marketing\",\" Marketing\",\" Marketing...</td>\n",
       "      <td>4.8</td>\n",
       "      <td>21.4k</td>\n",
       "      <td>Beginner</td>\n",
       "      <td>Professional Certificate</td>\n",
       "      <td>3 - 6 Months</td>\n",
       "      <td>False</td>\n",
       "    </tr>\n",
       "    <tr>\n",
       "      <th>Google IT Support</th>\n",
       "      <td>Google</td>\n",
       "      <td>{\" Computer Networking\",\" Network Architecture...</td>\n",
       "      <td>4.8</td>\n",
       "      <td>181.4k</td>\n",
       "      <td>Beginner</td>\n",
       "      <td>Professional Certificate</td>\n",
       "      <td>3 - 6 Months</td>\n",
       "      <td>True</td>\n",
       "    </tr>\n",
       "  </tbody>\n",
       "</table>\n",
       "</div>"
      ],
      "text/plain": [
       "                                      partner  \\\n",
       "course                                          \n",
       "Google Cybersecurity                   Google   \n",
       "Google Data Analytics                  Google   \n",
       "Google Project Management:             Google   \n",
       "Google Digital Marketing & E-commerce  Google   \n",
       "Google IT Support                      Google   \n",
       "\n",
       "                                                                                  skills  \\\n",
       "course                                                                                     \n",
       "Google Cybersecurity                   {\" Network Security\",\" Python Programming\",\" L...   \n",
       "Google Data Analytics                  {\" Data Analysis\",\" R Programming\",\" SQL\",\" Bu...   \n",
       "Google Project Management:             {\" Project Management\",\" Strategy and Operatio...   \n",
       "Google Digital Marketing & E-commerce  {\" Digital Marketing\",\" Marketing\",\" Marketing...   \n",
       "Google IT Support                      {\" Computer Networking\",\" Network Architecture...   \n",
       "\n",
       "                                       rating reviewcount      level  \\\n",
       "course                                                                 \n",
       "Google Cybersecurity                      4.8       16.4k  Beginner    \n",
       "Google Data Analytics                     4.8      133.4k  Beginner    \n",
       "Google Project Management:                4.8       97.3k  Beginner    \n",
       "Google Digital Marketing & E-commerce     4.8       21.4k  Beginner    \n",
       "Google IT Support                         4.8      181.4k  Beginner    \n",
       "\n",
       "                                                  certificatetype  \\\n",
       "course                                                              \n",
       "Google Cybersecurity                    Professional Certificate    \n",
       "Google Data Analytics                   Professional Certificate    \n",
       "Google Project Management:              Professional Certificate    \n",
       "Google Digital Marketing & E-commerce   Professional Certificate    \n",
       "Google IT Support                       Professional Certificate    \n",
       "\n",
       "                                            duration  crediteligibility  \n",
       "course                                                                   \n",
       "Google Cybersecurity                    3 - 6 Months              False  \n",
       "Google Data Analytics                   3 - 6 Months               True  \n",
       "Google Project Management:              3 - 6 Months               True  \n",
       "Google Digital Marketing & E-commerce   3 - 6 Months              False  \n",
       "Google IT Support                       3 - 6 Months               True  "
      ]
     },
     "execution_count": 3,
     "metadata": {},
     "output_type": "execute_result"
    }
   ],
   "source": [
    "#Первые 5 строк датасета\n",
    "df.head()"
   ]
  },
  {
   "cell_type": "code",
   "execution_count": 4,
   "metadata": {},
   "outputs": [
    {
     "data": {
      "text/html": [
       "<div>\n",
       "<style scoped>\n",
       "    .dataframe tbody tr th:only-of-type {\n",
       "        vertical-align: middle;\n",
       "    }\n",
       "\n",
       "    .dataframe tbody tr th {\n",
       "        vertical-align: top;\n",
       "    }\n",
       "\n",
       "    .dataframe thead th {\n",
       "        text-align: right;\n",
       "    }\n",
       "</style>\n",
       "<table border=\"1\" class=\"dataframe\">\n",
       "  <thead>\n",
       "    <tr style=\"text-align: right;\">\n",
       "      <th></th>\n",
       "      <th>partner</th>\n",
       "      <th>skills</th>\n",
       "      <th>rating</th>\n",
       "      <th>reviewcount</th>\n",
       "      <th>level</th>\n",
       "      <th>certificatetype</th>\n",
       "      <th>duration</th>\n",
       "      <th>crediteligibility</th>\n",
       "    </tr>\n",
       "    <tr>\n",
       "      <th>course</th>\n",
       "      <th></th>\n",
       "      <th></th>\n",
       "      <th></th>\n",
       "      <th></th>\n",
       "      <th></th>\n",
       "      <th></th>\n",
       "      <th></th>\n",
       "      <th></th>\n",
       "    </tr>\n",
       "  </thead>\n",
       "  <tbody>\n",
       "    <tr>\n",
       "      <th>Post Graduate Certificate in Cloud Computing Applications</th>\n",
       "      <td>IIT Guwahati</td>\n",
       "      <td>NaN</td>\n",
       "      <td>NaN</td>\n",
       "      <td>NaN</td>\n",
       "      <td>NaN</td>\n",
       "      <td>University Certificate</td>\n",
       "      <td>6 - 12 Months</td>\n",
       "      <td>False</td>\n",
       "    </tr>\n",
       "    <tr>\n",
       "      <th>Business Essentials University Certificate</th>\n",
       "      <td>IE Business School</td>\n",
       "      <td>{\" Strategy and Operations\",\" Leadership and M...</td>\n",
       "      <td>NaN</td>\n",
       "      <td>NaN</td>\n",
       "      <td>NaN</td>\n",
       "      <td>University Certificate</td>\n",
       "      <td>6 - 12 Months</td>\n",
       "      <td>False</td>\n",
       "    </tr>\n",
       "    <tr>\n",
       "      <th>Post Graduate Certificate in Strategic Supply Chain Management with AI</th>\n",
       "      <td>IIT Roorkee</td>\n",
       "      <td>{\" Machine Learning\",\" Python Programming\",\" R...</td>\n",
       "      <td>NaN</td>\n",
       "      <td>NaN</td>\n",
       "      <td>NaN</td>\n",
       "      <td>University Certificate</td>\n",
       "      <td>6 - 12 Months</td>\n",
       "      <td>False</td>\n",
       "    </tr>\n",
       "    <tr>\n",
       "      <th>Power Electronics and Motors for Electric Vehicles (EVs) Certificate</th>\n",
       "      <td>IIT Bombay</td>\n",
       "      <td>NaN</td>\n",
       "      <td>NaN</td>\n",
       "      <td>NaN</td>\n",
       "      <td>NaN</td>\n",
       "      <td>University Certificate</td>\n",
       "      <td>6 - 12 Months</td>\n",
       "      <td>False</td>\n",
       "    </tr>\n",
       "    <tr>\n",
       "      <th>Entrepreneurship and Strategic Innovation Graduate Certificate</th>\n",
       "      <td>University of Illinois</td>\n",
       "      <td>{\" Accounting\",\" Finance\",\" General Statistics...</td>\n",
       "      <td>NaN</td>\n",
       "      <td>NaN</td>\n",
       "      <td>NaN</td>\n",
       "      <td>Graduate Certificate</td>\n",
       "      <td>6 - 12 Months</td>\n",
       "      <td>True</td>\n",
       "    </tr>\n",
       "  </tbody>\n",
       "</table>\n",
       "</div>"
      ],
      "text/plain": [
       "                                                                   partner  \\\n",
       "course                                                                       \n",
       "Post Graduate Certificate in Cloud Computing Ap...            IIT Guwahati   \n",
       "Business Essentials University Certificate              IE Business School   \n",
       "Post Graduate Certificate in Strategic Supply C...             IIT Roorkee   \n",
       "Power Electronics and Motors for Electric Vehic...              IIT Bombay   \n",
       "Entrepreneurship and Strategic Innovation Gradu...  University of Illinois   \n",
       "\n",
       "                                                                                               skills  \\\n",
       "course                                                                                                  \n",
       "Post Graduate Certificate in Cloud Computing Ap...                                                NaN   \n",
       "Business Essentials University Certificate          {\" Strategy and Operations\",\" Leadership and M...   \n",
       "Post Graduate Certificate in Strategic Supply C...  {\" Machine Learning\",\" Python Programming\",\" R...   \n",
       "Power Electronics and Motors for Electric Vehic...                                                NaN   \n",
       "Entrepreneurship and Strategic Innovation Gradu...  {\" Accounting\",\" Finance\",\" General Statistics...   \n",
       "\n",
       "                                                    rating reviewcount level  \\\n",
       "course                                                                         \n",
       "Post Graduate Certificate in Cloud Computing Ap...     NaN         NaN   NaN   \n",
       "Business Essentials University Certificate             NaN         NaN   NaN   \n",
       "Post Graduate Certificate in Strategic Supply C...     NaN         NaN   NaN   \n",
       "Power Electronics and Motors for Electric Vehic...     NaN         NaN   NaN   \n",
       "Entrepreneurship and Strategic Innovation Gradu...     NaN         NaN   NaN   \n",
       "\n",
       "                                                            certificatetype  \\\n",
       "course                                                                        \n",
       "Post Graduate Certificate in Cloud Computing Ap...  University Certificate    \n",
       "Business Essentials University Certificate          University Certificate    \n",
       "Post Graduate Certificate in Strategic Supply C...  University Certificate    \n",
       "Power Electronics and Motors for Electric Vehic...  University Certificate    \n",
       "Entrepreneurship and Strategic Innovation Gradu...    Graduate Certificate    \n",
       "\n",
       "                                                          duration  \\\n",
       "course                                                               \n",
       "Post Graduate Certificate in Cloud Computing Ap...   6 - 12 Months   \n",
       "Business Essentials University Certificate           6 - 12 Months   \n",
       "Post Graduate Certificate in Strategic Supply C...   6 - 12 Months   \n",
       "Power Electronics and Motors for Electric Vehic...   6 - 12 Months   \n",
       "Entrepreneurship and Strategic Innovation Gradu...   6 - 12 Months   \n",
       "\n",
       "                                                    crediteligibility  \n",
       "course                                                                 \n",
       "Post Graduate Certificate in Cloud Computing Ap...              False  \n",
       "Business Essentials University Certificate                      False  \n",
       "Post Graduate Certificate in Strategic Supply C...              False  \n",
       "Power Electronics and Motors for Electric Vehic...              False  \n",
       "Entrepreneurship and Strategic Innovation Gradu...               True  "
      ]
     },
     "execution_count": 4,
     "metadata": {},
     "output_type": "execute_result"
    }
   ],
   "source": [
    "#Последние 5 строк датасета\n",
    "df.tail()"
   ]
  },
  {
   "cell_type": "code",
   "execution_count": 5,
   "metadata": {},
   "outputs": [
    {
     "name": "stdout",
     "output_type": "stream",
     "text": [
      "<class 'pandas.core.frame.DataFrame'>\n",
      "Index: 1139 entries, Google Cybersecurity to Entrepreneurship and Strategic Innovation Graduate Certificate\n",
      "Data columns (total 8 columns):\n",
      " #   Column             Non-Null Count  Dtype  \n",
      "---  ------             --------------  -----  \n",
      " 0   partner            1139 non-null   object \n",
      " 1   skills             1088 non-null   object \n",
      " 2   rating             993 non-null    float64\n",
      " 3   reviewcount        993 non-null    object \n",
      " 4   level              1004 non-null   object \n",
      " 5   certificatetype    1116 non-null   object \n",
      " 6   duration           1116 non-null   object \n",
      " 7   crediteligibility  1139 non-null   bool   \n",
      "dtypes: bool(1), float64(1), object(6)\n",
      "memory usage: 72.3+ KB\n"
     ]
    }
   ],
   "source": [
    "#Выводим базовую информацию о датасете\n",
    "df.info()"
   ]
  },
  {
   "cell_type": "markdown",
   "metadata": {},
   "source": [
    "<h2>Цели анализа</h2>"
   ]
  },
  {
   "cell_type": "markdown",
   "metadata": {},
   "source": [
    "1) Определить влияние признаков на рейтинг курса\n",
    "2) Проверить гипотезы: \n",
    "    Количество отзывов не влияет на рейтинг\n",
    "\n",
    "    Возможность получения кредитов за курс не влияет на количество отзывов\n",
    "\n",
    "    Средний рейтинг курсов не отличается от общего среднего\n",
    "\n",
    "    Распределение рейтингов в датасете является равномерным\n",
    "    \n",
    "    Рейтинг курса не влияет на число отзывов\n"
   ]
  },
  {
   "cell_type": "markdown",
   "metadata": {},
   "source": [
    "<h2>Работа с пустыми значениями</h2>"
   ]
  },
  {
   "cell_type": "code",
   "execution_count": 6,
   "metadata": {},
   "outputs": [],
   "source": [
    "#исходя из полученной в предыдущем пункте информации \n",
    "# часть пустых значений не являются пустыми, а заполнены string='None'\n",
    "for column in df.columns:\n",
    "    df[column] = df[column].replace('None',pd.NA)"
   ]
  },
  {
   "cell_type": "code",
   "execution_count": 7,
   "metadata": {},
   "outputs": [
    {
     "name": "stdout",
     "output_type": "stream",
     "text": [
      "partner                0\n",
      "skills                51\n",
      "rating               146\n",
      "reviewcount          146\n",
      "level                135\n",
      "certificatetype       23\n",
      "duration              23\n",
      "crediteligibility      0\n",
      "dtype: int64\n"
     ]
    }
   ],
   "source": [
    "#подсчитаем пустые значения\n",
    "print(df.isnull().sum())"
   ]
  },
  {
   "cell_type": "code",
   "execution_count": 8,
   "metadata": {},
   "outputs": [],
   "source": [
    "#Посклольку анализ подразумевает работу с рейтингом, и \n",
    "# восстановить значения рейтинга невозможно\n",
    "# удалим строки с пустым рейтингом\n",
    "df = df[~df['rating'].isna()]"
   ]
  },
  {
   "cell_type": "code",
   "execution_count": 9,
   "metadata": {},
   "outputs": [
    {
     "name": "stdout",
     "output_type": "stream",
     "text": [
      "partner              0\n",
      "skills               0\n",
      "rating               0\n",
      "reviewcount          0\n",
      "level                0\n",
      "certificatetype      0\n",
      "duration             0\n",
      "crediteligibility    0\n",
      "dtype: int64\n"
     ]
    }
   ],
   "source": [
    "#Проверим в каких колонках остались пустые значения\n",
    "print(df.isnull().sum())"
   ]
  },
  {
   "cell_type": "code",
   "execution_count": 10,
   "metadata": {},
   "outputs": [],
   "source": [
    "#Ура! Пустых значений в датасете больше не осталось"
   ]
  },
  {
   "cell_type": "markdown",
   "metadata": {},
   "source": [
    "<h2>Создание новых переменных</h2>"
   ]
  },
  {
   "cell_type": "code",
   "execution_count": 11,
   "metadata": {},
   "outputs": [],
   "source": [
    "#Исходя из предыдущих пунктов данные в датасете не размечены, \n",
    "#поэтому перед поиском зависимостей лучше \n",
    "#обработать переменные/создать новыые"
   ]
  },
  {
   "cell_type": "code",
   "execution_count": 12,
   "metadata": {},
   "outputs": [],
   "source": [
    "#Трансформируем число отзывов в число\n",
    "df['reviewcount'] = df['reviewcount'].apply(lambda x: int(float(x[:-1]) * 1000) if 'k' in x else int(x))\n",
    "\n",
    "#Считаем число компетенций для каждого курса\n",
    "df['skills_count'] = df['skills'].apply(lambda x: len(eval(x)))"
   ]
  },
  {
   "cell_type": "code",
   "execution_count": 13,
   "metadata": {},
   "outputs": [],
   "source": [
    "#Создаем числовые категории на основе строчных\n",
    "def get_lvl_cat(x):\n",
    "    x = x.strip()\n",
    "    if x == 'Beginner':\n",
    "        return 0\n",
    "    elif x == 'Intermediate':\n",
    "        return 1\n",
    "    elif x == 'Mixed':\n",
    "        return 2\n",
    "    elif x == 'Advanced':\n",
    "        return 3\n",
    "    else:\n",
    "        return '99999'\n",
    "    \n",
    "def get_len_cat(x):\n",
    "    x = x.strip()\n",
    "    if x == '3 - 6 Months':\n",
    "        return 2\n",
    "    elif x == '1 - 3 Months':\n",
    "        return 3\n",
    "    elif x == '1 - 4 Weeks':\n",
    "        return 1\n",
    "    elif x == 'Less Than 2 Hours':\n",
    "        return 0\n",
    "    else:\n",
    "        return '99999'\n",
    "    \n",
    "def get_cred_cat(x):\n",
    "    if x ==  True:\n",
    "        return 1\n",
    "    elif x == False:\n",
    "        return 0\n",
    "    else:\n",
    "        return '99999' \n",
    "\n",
    "def get_sert_cat(x):\n",
    "    x = x.strip()\n",
    "    if x == 'Course':\n",
    "        return 1\n",
    "    elif x == 'Specialization':\n",
    "        return 2\n",
    "    elif x == 'Professional Certificate':\n",
    "        return 0\n",
    "    elif x == 'Guided Project':\n",
    "        return 3\n",
    "    else:\n",
    "        return '99999'\n",
    "    \n",
    "df['len_cat'] = df['duration'].apply(get_len_cat)\n",
    "df['sert_cat'] = df['certificatetype'].apply(get_sert_cat)\n",
    "df['cred_cat'] = df['crediteligibility'].apply(get_cred_cat)\n",
    "df['lvl_cat'] = df['level'].apply(get_lvl_cat)\n"
   ]
  },
  {
   "cell_type": "code",
   "execution_count": 14,
   "metadata": {},
   "outputs": [],
   "source": [
    "#Добавим новую переменную: Отношение рейтинга к числу компетенций\n",
    "df['average_rating_per_skill'] = df['rating'] / df['skills_count']"
   ]
  },
  {
   "cell_type": "code",
   "execution_count": 15,
   "metadata": {},
   "outputs": [],
   "source": [
    "#Добавим новую переменную: Отношение  числа окомпетенций  к числу отзывов\n",
    "df['average_skils_per_review'] = df['skills_count'] / df['reviewcount']"
   ]
  },
  {
   "cell_type": "code",
   "execution_count": 16,
   "metadata": {},
   "outputs": [
    {
     "data": {
      "text/html": [
       "<div>\n",
       "<style scoped>\n",
       "    .dataframe tbody tr th:only-of-type {\n",
       "        vertical-align: middle;\n",
       "    }\n",
       "\n",
       "    .dataframe tbody tr th {\n",
       "        vertical-align: top;\n",
       "    }\n",
       "\n",
       "    .dataframe thead th {\n",
       "        text-align: right;\n",
       "    }\n",
       "</style>\n",
       "<table border=\"1\" class=\"dataframe\">\n",
       "  <thead>\n",
       "    <tr style=\"text-align: right;\">\n",
       "      <th></th>\n",
       "      <th>partner</th>\n",
       "      <th>skills</th>\n",
       "      <th>rating</th>\n",
       "      <th>reviewcount</th>\n",
       "      <th>level</th>\n",
       "      <th>certificatetype</th>\n",
       "      <th>duration</th>\n",
       "      <th>crediteligibility</th>\n",
       "      <th>skills_count</th>\n",
       "      <th>len_cat</th>\n",
       "      <th>sert_cat</th>\n",
       "      <th>cred_cat</th>\n",
       "      <th>lvl_cat</th>\n",
       "      <th>average_rating_per_skill</th>\n",
       "      <th>average_skils_per_review</th>\n",
       "    </tr>\n",
       "    <tr>\n",
       "      <th>course</th>\n",
       "      <th></th>\n",
       "      <th></th>\n",
       "      <th></th>\n",
       "      <th></th>\n",
       "      <th></th>\n",
       "      <th></th>\n",
       "      <th></th>\n",
       "      <th></th>\n",
       "      <th></th>\n",
       "      <th></th>\n",
       "      <th></th>\n",
       "      <th></th>\n",
       "      <th></th>\n",
       "      <th></th>\n",
       "      <th></th>\n",
       "    </tr>\n",
       "  </thead>\n",
       "  <tbody>\n",
       "    <tr>\n",
       "      <th>Google Cybersecurity</th>\n",
       "      <td>Google</td>\n",
       "      <td>{\" Network Security\",\" Python Programming\",\" L...</td>\n",
       "      <td>4.8</td>\n",
       "      <td>16400</td>\n",
       "      <td>Beginner</td>\n",
       "      <td>Professional Certificate</td>\n",
       "      <td>3 - 6 Months</td>\n",
       "      <td>False</td>\n",
       "      <td>14</td>\n",
       "      <td>2</td>\n",
       "      <td>0</td>\n",
       "      <td>0</td>\n",
       "      <td>0</td>\n",
       "      <td>0.342857</td>\n",
       "      <td>0.000854</td>\n",
       "    </tr>\n",
       "    <tr>\n",
       "      <th>Google Data Analytics</th>\n",
       "      <td>Google</td>\n",
       "      <td>{\" Data Analysis\",\" R Programming\",\" SQL\",\" Bu...</td>\n",
       "      <td>4.8</td>\n",
       "      <td>133400</td>\n",
       "      <td>Beginner</td>\n",
       "      <td>Professional Certificate</td>\n",
       "      <td>3 - 6 Months</td>\n",
       "      <td>True</td>\n",
       "      <td>25</td>\n",
       "      <td>2</td>\n",
       "      <td>0</td>\n",
       "      <td>1</td>\n",
       "      <td>0</td>\n",
       "      <td>0.192000</td>\n",
       "      <td>0.000187</td>\n",
       "    </tr>\n",
       "    <tr>\n",
       "      <th>Google Project Management:</th>\n",
       "      <td>Google</td>\n",
       "      <td>{\" Project Management\",\" Strategy and Operatio...</td>\n",
       "      <td>4.8</td>\n",
       "      <td>97300</td>\n",
       "      <td>Beginner</td>\n",
       "      <td>Professional Certificate</td>\n",
       "      <td>3 - 6 Months</td>\n",
       "      <td>True</td>\n",
       "      <td>24</td>\n",
       "      <td>2</td>\n",
       "      <td>0</td>\n",
       "      <td>1</td>\n",
       "      <td>0</td>\n",
       "      <td>0.200000</td>\n",
       "      <td>0.000247</td>\n",
       "    </tr>\n",
       "    <tr>\n",
       "      <th>Google Digital Marketing &amp; E-commerce</th>\n",
       "      <td>Google</td>\n",
       "      <td>{\" Digital Marketing\",\" Marketing\",\" Marketing...</td>\n",
       "      <td>4.8</td>\n",
       "      <td>21400</td>\n",
       "      <td>Beginner</td>\n",
       "      <td>Professional Certificate</td>\n",
       "      <td>3 - 6 Months</td>\n",
       "      <td>False</td>\n",
       "      <td>19</td>\n",
       "      <td>2</td>\n",
       "      <td>0</td>\n",
       "      <td>0</td>\n",
       "      <td>0</td>\n",
       "      <td>0.252632</td>\n",
       "      <td>0.000888</td>\n",
       "    </tr>\n",
       "    <tr>\n",
       "      <th>Google IT Support</th>\n",
       "      <td>Google</td>\n",
       "      <td>{\" Computer Networking\",\" Network Architecture...</td>\n",
       "      <td>4.8</td>\n",
       "      <td>181400</td>\n",
       "      <td>Beginner</td>\n",
       "      <td>Professional Certificate</td>\n",
       "      <td>3 - 6 Months</td>\n",
       "      <td>True</td>\n",
       "      <td>19</td>\n",
       "      <td>2</td>\n",
       "      <td>0</td>\n",
       "      <td>1</td>\n",
       "      <td>0</td>\n",
       "      <td>0.252632</td>\n",
       "      <td>0.000105</td>\n",
       "    </tr>\n",
       "    <tr>\n",
       "      <th>...</th>\n",
       "      <td>...</td>\n",
       "      <td>...</td>\n",
       "      <td>...</td>\n",
       "      <td>...</td>\n",
       "      <td>...</td>\n",
       "      <td>...</td>\n",
       "      <td>...</td>\n",
       "      <td>...</td>\n",
       "      <td>...</td>\n",
       "      <td>...</td>\n",
       "      <td>...</td>\n",
       "      <td>...</td>\n",
       "      <td>...</td>\n",
       "      <td>...</td>\n",
       "      <td>...</td>\n",
       "    </tr>\n",
       "    <tr>\n",
       "      <th>Interviewing and Resume Writing in English</th>\n",
       "      <td>University of Maryland, College Park</td>\n",
       "      <td>{\" Communication\",\" Human Resources\",\" Strateg...</td>\n",
       "      <td>4.6</td>\n",
       "      <td>710</td>\n",
       "      <td>Intermediate</td>\n",
       "      <td>Specialization</td>\n",
       "      <td>3 - 6 Months</td>\n",
       "      <td>False</td>\n",
       "      <td>11</td>\n",
       "      <td>2</td>\n",
       "      <td>2</td>\n",
       "      <td>0</td>\n",
       "      <td>1</td>\n",
       "      <td>0.418182</td>\n",
       "      <td>0.015493</td>\n",
       "    </tr>\n",
       "    <tr>\n",
       "      <th>Strategic Sales Management</th>\n",
       "      <td>Fundação Instituto de Administração</td>\n",
       "      <td>{\" Sales\",\" Marketing\",\" Strategy\",\" Leadershi...</td>\n",
       "      <td>4.5</td>\n",
       "      <td>427</td>\n",
       "      <td>Intermediate</td>\n",
       "      <td>Specialization</td>\n",
       "      <td>3 - 6 Months</td>\n",
       "      <td>False</td>\n",
       "      <td>13</td>\n",
       "      <td>2</td>\n",
       "      <td>2</td>\n",
       "      <td>0</td>\n",
       "      <td>1</td>\n",
       "      <td>0.346154</td>\n",
       "      <td>0.030445</td>\n",
       "    </tr>\n",
       "    <tr>\n",
       "      <th>Essentials of Corporate Finance</th>\n",
       "      <td>The University of Melbourne</td>\n",
       "      <td>{\" Finance\",\" Investment Management\",\" Financi...</td>\n",
       "      <td>4.6</td>\n",
       "      <td>1800</td>\n",
       "      <td>Intermediate</td>\n",
       "      <td>Specialization</td>\n",
       "      <td>3 - 6 Months</td>\n",
       "      <td>False</td>\n",
       "      <td>21</td>\n",
       "      <td>2</td>\n",
       "      <td>2</td>\n",
       "      <td>0</td>\n",
       "      <td>1</td>\n",
       "      <td>0.219048</td>\n",
       "      <td>0.011667</td>\n",
       "    </tr>\n",
       "    <tr>\n",
       "      <th>Innovation: From Creativity to Entrepreneurship</th>\n",
       "      <td>University of Illinois at Urbana-Champaign</td>\n",
       "      <td>{\" Entrepreneurship\",\" Leadership and Manageme...</td>\n",
       "      <td>4.8</td>\n",
       "      <td>3200</td>\n",
       "      <td>Beginner</td>\n",
       "      <td>Specialization</td>\n",
       "      <td>3 - 6 Months</td>\n",
       "      <td>True</td>\n",
       "      <td>30</td>\n",
       "      <td>2</td>\n",
       "      <td>2</td>\n",
       "      <td>1</td>\n",
       "      <td>0</td>\n",
       "      <td>0.160000</td>\n",
       "      <td>0.009375</td>\n",
       "    </tr>\n",
       "    <tr>\n",
       "      <th>Excel for Beginners: Pivot Tables</th>\n",
       "      <td>Coursera Project Network</td>\n",
       "      <td>{\" Microsoft Excel\"}</td>\n",
       "      <td>4.6</td>\n",
       "      <td>52</td>\n",
       "      <td>Beginner</td>\n",
       "      <td>Guided Project</td>\n",
       "      <td>Less Than 2 Hours</td>\n",
       "      <td>False</td>\n",
       "      <td>1</td>\n",
       "      <td>0</td>\n",
       "      <td>3</td>\n",
       "      <td>0</td>\n",
       "      <td>0</td>\n",
       "      <td>4.600000</td>\n",
       "      <td>0.019231</td>\n",
       "    </tr>\n",
       "  </tbody>\n",
       "</table>\n",
       "<p>993 rows × 15 columns</p>\n",
       "</div>"
      ],
      "text/plain": [
       "                                                                                    partner  \\\n",
       "course                                                                                        \n",
       "Google Cybersecurity                                                                 Google   \n",
       "Google Data Analytics                                                                Google   \n",
       "Google Project Management:                                                           Google   \n",
       "Google Digital Marketing & E-commerce                                                Google   \n",
       "Google IT Support                                                                    Google   \n",
       "...                                                                                     ...   \n",
       "Interviewing and Resume Writing in English             University of Maryland, College Park   \n",
       "Strategic Sales Management                              Fundação Instituto de Administração   \n",
       "Essentials of Corporate Finance                                 The University of Melbourne   \n",
       "Innovation: From Creativity to Entrepreneurship  University of Illinois at Urbana-Champaign   \n",
       "Excel for Beginners: Pivot Tables                                  Coursera Project Network   \n",
       "\n",
       "                                                                                            skills  \\\n",
       "course                                                                                               \n",
       "Google Cybersecurity                             {\" Network Security\",\" Python Programming\",\" L...   \n",
       "Google Data Analytics                            {\" Data Analysis\",\" R Programming\",\" SQL\",\" Bu...   \n",
       "Google Project Management:                       {\" Project Management\",\" Strategy and Operatio...   \n",
       "Google Digital Marketing & E-commerce            {\" Digital Marketing\",\" Marketing\",\" Marketing...   \n",
       "Google IT Support                                {\" Computer Networking\",\" Network Architecture...   \n",
       "...                                                                                            ...   \n",
       "Interviewing and Resume Writing in English       {\" Communication\",\" Human Resources\",\" Strateg...   \n",
       "Strategic Sales Management                       {\" Sales\",\" Marketing\",\" Strategy\",\" Leadershi...   \n",
       "Essentials of Corporate Finance                  {\" Finance\",\" Investment Management\",\" Financi...   \n",
       "Innovation: From Creativity to Entrepreneurship  {\" Entrepreneurship\",\" Leadership and Manageme...   \n",
       "Excel for Beginners: Pivot Tables                                             {\" Microsoft Excel\"}   \n",
       "\n",
       "                                                 rating  reviewcount  \\\n",
       "course                                                                 \n",
       "Google Cybersecurity                                4.8        16400   \n",
       "Google Data Analytics                               4.8       133400   \n",
       "Google Project Management:                          4.8        97300   \n",
       "Google Digital Marketing & E-commerce               4.8        21400   \n",
       "Google IT Support                                   4.8       181400   \n",
       "...                                                 ...          ...   \n",
       "Interviewing and Resume Writing in English          4.6          710   \n",
       "Strategic Sales Management                          4.5          427   \n",
       "Essentials of Corporate Finance                     4.6         1800   \n",
       "Innovation: From Creativity to Entrepreneurship     4.8         3200   \n",
       "Excel for Beginners: Pivot Tables                   4.6           52   \n",
       "\n",
       "                                                         level  \\\n",
       "course                                                           \n",
       "Google Cybersecurity                                 Beginner    \n",
       "Google Data Analytics                                Beginner    \n",
       "Google Project Management:                           Beginner    \n",
       "Google Digital Marketing & E-commerce                Beginner    \n",
       "Google IT Support                                    Beginner    \n",
       "...                                                        ...   \n",
       "Interviewing and Resume Writing in English       Intermediate    \n",
       "Strategic Sales Management                       Intermediate    \n",
       "Essentials of Corporate Finance                  Intermediate    \n",
       "Innovation: From Creativity to Entrepreneurship      Beginner    \n",
       "Excel for Beginners: Pivot Tables                    Beginner    \n",
       "\n",
       "                                                            certificatetype  \\\n",
       "course                                                                        \n",
       "Google Cybersecurity                              Professional Certificate    \n",
       "Google Data Analytics                             Professional Certificate    \n",
       "Google Project Management:                        Professional Certificate    \n",
       "Google Digital Marketing & E-commerce             Professional Certificate    \n",
       "Google IT Support                                 Professional Certificate    \n",
       "...                                                                     ...   \n",
       "Interviewing and Resume Writing in English                  Specialization    \n",
       "Strategic Sales Management                                  Specialization    \n",
       "Essentials of Corporate Finance                             Specialization    \n",
       "Innovation: From Creativity to Entrepreneurship             Specialization    \n",
       "Excel for Beginners: Pivot Tables                           Guided Project    \n",
       "\n",
       "                                                           duration  \\\n",
       "course                                                                \n",
       "Google Cybersecurity                                   3 - 6 Months   \n",
       "Google Data Analytics                                  3 - 6 Months   \n",
       "Google Project Management:                             3 - 6 Months   \n",
       "Google Digital Marketing & E-commerce                  3 - 6 Months   \n",
       "Google IT Support                                      3 - 6 Months   \n",
       "...                                                             ...   \n",
       "Interviewing and Resume Writing in English             3 - 6 Months   \n",
       "Strategic Sales Management                             3 - 6 Months   \n",
       "Essentials of Corporate Finance                        3 - 6 Months   \n",
       "Innovation: From Creativity to Entrepreneurship        3 - 6 Months   \n",
       "Excel for Beginners: Pivot Tables                 Less Than 2 Hours   \n",
       "\n",
       "                                                 crediteligibility  \\\n",
       "course                                                               \n",
       "Google Cybersecurity                                         False   \n",
       "Google Data Analytics                                         True   \n",
       "Google Project Management:                                    True   \n",
       "Google Digital Marketing & E-commerce                        False   \n",
       "Google IT Support                                             True   \n",
       "...                                                            ...   \n",
       "Interviewing and Resume Writing in English                   False   \n",
       "Strategic Sales Management                                   False   \n",
       "Essentials of Corporate Finance                              False   \n",
       "Innovation: From Creativity to Entrepreneurship               True   \n",
       "Excel for Beginners: Pivot Tables                            False   \n",
       "\n",
       "                                                 skills_count  len_cat  \\\n",
       "course                                                                   \n",
       "Google Cybersecurity                                       14        2   \n",
       "Google Data Analytics                                      25        2   \n",
       "Google Project Management:                                 24        2   \n",
       "Google Digital Marketing & E-commerce                      19        2   \n",
       "Google IT Support                                          19        2   \n",
       "...                                                       ...      ...   \n",
       "Interviewing and Resume Writing in English                 11        2   \n",
       "Strategic Sales Management                                 13        2   \n",
       "Essentials of Corporate Finance                            21        2   \n",
       "Innovation: From Creativity to Entrepreneurship            30        2   \n",
       "Excel for Beginners: Pivot Tables                           1        0   \n",
       "\n",
       "                                                 sert_cat  cred_cat  lvl_cat  \\\n",
       "course                                                                         \n",
       "Google Cybersecurity                                    0         0        0   \n",
       "Google Data Analytics                                   0         1        0   \n",
       "Google Project Management:                              0         1        0   \n",
       "Google Digital Marketing & E-commerce                   0         0        0   \n",
       "Google IT Support                                       0         1        0   \n",
       "...                                                   ...       ...      ...   \n",
       "Interviewing and Resume Writing in English              2         0        1   \n",
       "Strategic Sales Management                              2         0        1   \n",
       "Essentials of Corporate Finance                         2         0        1   \n",
       "Innovation: From Creativity to Entrepreneurship         2         1        0   \n",
       "Excel for Beginners: Pivot Tables                       3         0        0   \n",
       "\n",
       "                                                 average_rating_per_skill  \\\n",
       "course                                                                      \n",
       "Google Cybersecurity                                             0.342857   \n",
       "Google Data Analytics                                            0.192000   \n",
       "Google Project Management:                                       0.200000   \n",
       "Google Digital Marketing & E-commerce                            0.252632   \n",
       "Google IT Support                                                0.252632   \n",
       "...                                                                   ...   \n",
       "Interviewing and Resume Writing in English                       0.418182   \n",
       "Strategic Sales Management                                       0.346154   \n",
       "Essentials of Corporate Finance                                  0.219048   \n",
       "Innovation: From Creativity to Entrepreneurship                  0.160000   \n",
       "Excel for Beginners: Pivot Tables                                4.600000   \n",
       "\n",
       "                                                 average_skils_per_review  \n",
       "course                                                                     \n",
       "Google Cybersecurity                                             0.000854  \n",
       "Google Data Analytics                                            0.000187  \n",
       "Google Project Management:                                       0.000247  \n",
       "Google Digital Marketing & E-commerce                            0.000888  \n",
       "Google IT Support                                                0.000105  \n",
       "...                                                                   ...  \n",
       "Interviewing and Resume Writing in English                       0.015493  \n",
       "Strategic Sales Management                                       0.030445  \n",
       "Essentials of Corporate Finance                                  0.011667  \n",
       "Innovation: From Creativity to Entrepreneurship                  0.009375  \n",
       "Excel for Beginners: Pivot Tables                                0.019231  \n",
       "\n",
       "[993 rows x 15 columns]"
      ]
     },
     "execution_count": 16,
     "metadata": {},
     "output_type": "execute_result"
    }
   ],
   "source": [
    "df"
   ]
  },
  {
   "cell_type": "markdown",
   "metadata": {},
   "source": [
    "<h2>Поиск Зависимостей</h2>"
   ]
  },
  {
   "cell_type": "code",
   "execution_count": 17,
   "metadata": {},
   "outputs": [
    {
     "data": {
      "image/png": "[encoded data removed]",
      "text/plain": [
       "<Figure size 640x480 with 2 Axes>"
      ]
     },
     "metadata": {},
     "output_type": "display_data"
    },
    {
     "data": {
      "text/plain": [
       "<Figure size 200x100 with 0 Axes>"
      ]
     },
     "metadata": {},
     "output_type": "display_data"
    }
   ],
   "source": [
    "#Построим матрицу кореляций, чтобы выяснить корреляции между колонками\n",
    "corr_matrix = df[['rating','reviewcount','skills_count','len_cat','sert_cat','cred_cat','lvl_cat','average_rating_per_skill','average_skils_per_review']].corr()\n",
    "sns.heatmap(corr_matrix,annot=True,linewidth=.5)\n",
    "plt.figure(figsize=(2,1))\n",
    "plt.show()"
   ]
  },
  {
   "cell_type": "markdown",
   "metadata": {},
   "source": [
    "Явной кореляции рейтинга и признаков не выявлено, существует незначительная положительная кореляция рейтинга и числа отзывов, и незначительная отрицательная корреляция рейтинга и категории курса"
   ]
  },
  {
   "cell_type": "markdown",
   "metadata": {},
   "source": [
    "<h2>Сортировка, Фильтрация, Группировка</h2>"
   ]
  },
  {
   "cell_type": "code",
   "execution_count": 18,
   "metadata": {},
   "outputs": [],
   "source": [
    "#Отсортируем датасет по рейтингу\n",
    "df = df.sort_values(by='rating', ascending=False)\n",
    "\n",
    "#Отфильтруем дублирующиеся колонки\n",
    "df_filtered = df[['rating', 'reviewcount', 'skills_count', 'sert_cat', 'average_rating_per_skill','average_skils_per_review','cred_cat']]\n",
    "\n",
    "#Найдем среднее для уровня курса, партнера и длительности\n",
    "mean_rating_by_level = df.groupby('level')['rating'].mean()\n",
    "mean_rating_by_part = df.groupby('partner')['rating'].mean()\n",
    "mean_rating_by_dur = df.groupby('duration')['rating'].mean()"
   ]
  },
  {
   "cell_type": "code",
   "execution_count": 19,
   "metadata": {},
   "outputs": [
    {
     "name": "stdout",
     "output_type": "stream",
     "text": [
      "level\n",
      "Advanced         4.577143\n",
      "Beginner         4.692262\n",
      "Intermediate     4.621212\n",
      "Mixed            4.728409\n",
      "Name: rating, dtype: float64\n"
     ]
    }
   ],
   "source": [
    "print(mean_rating_by_level)"
   ]
  },
  {
   "cell_type": "code",
   "execution_count": 20,
   "metadata": {},
   "outputs": [
    {
     "name": "stdout",
     "output_type": "stream",
     "text": [
      "partner\n",
      "Advancing Women in Tech                     4.600000\n",
      "Akamai Technologies, Inc.                   4.900000\n",
      "Amazon Web Services                         4.800000\n",
      "American Museum of Natural History          4.700000\n",
      "Aptly                                       4.700000\n",
      "                                              ...   \n",
      "Yale University                             4.841176\n",
      "Yonsei University                           4.800000\n",
      "École Polytechnique                         4.800000\n",
      "École Polytechnique Fédérale de Lausanne    4.700000\n",
      "École des Ponts ParisTech                   4.800000\n",
      "Name: rating, Length: 158, dtype: float64\n"
     ]
    }
   ],
   "source": [
    "print(mean_rating_by_part)"
   ]
  },
  {
   "cell_type": "code",
   "execution_count": 21,
   "metadata": {},
   "outputs": [
    {
     "name": "stdout",
     "output_type": "stream",
     "text": [
      "duration\n",
      " 1 - 3 Months         4.705758\n",
      " 1 - 4 Weeks          4.681463\n",
      " 3 - 6 Months         4.659465\n",
      " Less Than 2 Hours    4.422222\n",
      "Name: rating, dtype: float64\n"
     ]
    }
   ],
   "source": [
    "print(mean_rating_by_dur)"
   ]
  },
  {
   "cell_type": "markdown",
   "metadata": {},
   "source": [
    "<h2>Работа с Выбросами</h2>"
   ]
  },
  {
   "cell_type": "code",
   "execution_count": 22,
   "metadata": {},
   "outputs": [
    {
     "data": {
      "text/html": [
       "<div>\n",
       "<style scoped>\n",
       "    .dataframe tbody tr th:only-of-type {\n",
       "        vertical-align: middle;\n",
       "    }\n",
       "\n",
       "    .dataframe tbody tr th {\n",
       "        vertical-align: top;\n",
       "    }\n",
       "\n",
       "    .dataframe thead th {\n",
       "        text-align: right;\n",
       "    }\n",
       "</style>\n",
       "<table border=\"1\" class=\"dataframe\">\n",
       "  <thead>\n",
       "    <tr style=\"text-align: right;\">\n",
       "      <th></th>\n",
       "      <th>rating</th>\n",
       "      <th>reviewcount</th>\n",
       "      <th>skills_count</th>\n",
       "      <th>len_cat</th>\n",
       "      <th>sert_cat</th>\n",
       "      <th>cred_cat</th>\n",
       "      <th>lvl_cat</th>\n",
       "      <th>average_rating_per_skill</th>\n",
       "      <th>average_skils_per_review</th>\n",
       "    </tr>\n",
       "  </thead>\n",
       "  <tbody>\n",
       "    <tr>\n",
       "      <th>count</th>\n",
       "      <td>993.000000</td>\n",
       "      <td>993.000000</td>\n",
       "      <td>993.000000</td>\n",
       "      <td>993.000000</td>\n",
       "      <td>993.000000</td>\n",
       "      <td>993.000000</td>\n",
       "      <td>993.000000</td>\n",
       "      <td>993.000000</td>\n",
       "      <td>993.000000</td>\n",
       "    </tr>\n",
       "    <tr>\n",
       "      <th>mean</th>\n",
       "      <td>4.677241</td>\n",
       "      <td>7827.922457</td>\n",
       "      <td>10.584089</td>\n",
       "      <td>2.107754</td>\n",
       "      <td>1.310171</td>\n",
       "      <td>0.045317</td>\n",
       "      <td>0.482377</td>\n",
       "      <td>1.416316</td>\n",
       "      <td>0.019592</td>\n",
       "    </tr>\n",
       "    <tr>\n",
       "      <th>std</th>\n",
       "      <td>0.190091</td>\n",
       "      <td>19899.483607</td>\n",
       "      <td>9.188836</td>\n",
       "      <td>0.750987</td>\n",
       "      <td>0.658740</td>\n",
       "      <td>0.208104</td>\n",
       "      <td>0.799409</td>\n",
       "      <td>1.658379</td>\n",
       "      <td>0.068463</td>\n",
       "    </tr>\n",
       "    <tr>\n",
       "      <th>min</th>\n",
       "      <td>2.800000</td>\n",
       "      <td>6.000000</td>\n",
       "      <td>1.000000</td>\n",
       "      <td>0.000000</td>\n",
       "      <td>0.000000</td>\n",
       "      <td>0.000000</td>\n",
       "      <td>0.000000</td>\n",
       "      <td>0.095745</td>\n",
       "      <td>0.000027</td>\n",
       "    </tr>\n",
       "    <tr>\n",
       "      <th>25%</th>\n",
       "      <td>4.600000</td>\n",
       "      <td>470.000000</td>\n",
       "      <td>3.000000</td>\n",
       "      <td>2.000000</td>\n",
       "      <td>1.000000</td>\n",
       "      <td>0.000000</td>\n",
       "      <td>0.000000</td>\n",
       "      <td>0.288235</td>\n",
       "      <td>0.001028</td>\n",
       "    </tr>\n",
       "    <tr>\n",
       "      <th>50%</th>\n",
       "      <td>4.700000</td>\n",
       "      <td>1900.000000</td>\n",
       "      <td>10.000000</td>\n",
       "      <td>2.000000</td>\n",
       "      <td>1.000000</td>\n",
       "      <td>0.000000</td>\n",
       "      <td>0.000000</td>\n",
       "      <td>0.490000</td>\n",
       "      <td>0.004000</td>\n",
       "    </tr>\n",
       "    <tr>\n",
       "      <th>75%</th>\n",
       "      <td>4.800000</td>\n",
       "      <td>5600.000000</td>\n",
       "      <td>16.000000</td>\n",
       "      <td>3.000000</td>\n",
       "      <td>2.000000</td>\n",
       "      <td>0.000000</td>\n",
       "      <td>1.000000</td>\n",
       "      <td>1.633333</td>\n",
       "      <td>0.014134</td>\n",
       "    </tr>\n",
       "    <tr>\n",
       "      <th>max</th>\n",
       "      <td>5.000000</td>\n",
       "      <td>268600.000000</td>\n",
       "      <td>47.000000</td>\n",
       "      <td>3.000000</td>\n",
       "      <td>3.000000</td>\n",
       "      <td>1.000000</td>\n",
       "      <td>3.000000</td>\n",
       "      <td>5.000000</td>\n",
       "      <td>1.250000</td>\n",
       "    </tr>\n",
       "  </tbody>\n",
       "</table>\n",
       "</div>"
      ],
      "text/plain": [
       "           rating    reviewcount  skills_count     len_cat    sert_cat  \\\n",
       "count  993.000000     993.000000    993.000000  993.000000  993.000000   \n",
       "mean     4.677241    7827.922457     10.584089    2.107754    1.310171   \n",
       "std      0.190091   19899.483607      9.188836    0.750987    0.658740   \n",
       "min      2.800000       6.000000      1.000000    0.000000    0.000000   \n",
       "25%      4.600000     470.000000      3.000000    2.000000    1.000000   \n",
       "50%      4.700000    1900.000000     10.000000    2.000000    1.000000   \n",
       "75%      4.800000    5600.000000     16.000000    3.000000    2.000000   \n",
       "max      5.000000  268600.000000     47.000000    3.000000    3.000000   \n",
       "\n",
       "         cred_cat     lvl_cat  average_rating_per_skill  \\\n",
       "count  993.000000  993.000000                993.000000   \n",
       "mean     0.045317    0.482377                  1.416316   \n",
       "std      0.208104    0.799409                  1.658379   \n",
       "min      0.000000    0.000000                  0.095745   \n",
       "25%      0.000000    0.000000                  0.288235   \n",
       "50%      0.000000    0.000000                  0.490000   \n",
       "75%      0.000000    1.000000                  1.633333   \n",
       "max      1.000000    3.000000                  5.000000   \n",
       "\n",
       "       average_skils_per_review  \n",
       "count                993.000000  \n",
       "mean                   0.019592  \n",
       "std                    0.068463  \n",
       "min                    0.000027  \n",
       "25%                    0.001028  \n",
       "50%                    0.004000  \n",
       "75%                    0.014134  \n",
       "max                    1.250000  "
      ]
     },
     "execution_count": 22,
     "metadata": {},
     "output_type": "execute_result"
    }
   ],
   "source": [
    "#найдем колонки наиболее склонные к выбросам\n",
    "df.describe()"
   ]
  },
  {
   "cell_type": "code",
   "execution_count": 23,
   "metadata": {},
   "outputs": [],
   "source": [
    "#Наиболее склонны к выбросам колонки  reviewcount, rating и skills_count, решим проблему с выбросами 3 способами"
   ]
  },
  {
   "cell_type": "code",
   "execution_count": 24,
   "metadata": {},
   "outputs": [
    {
     "data": {
      "text/plain": [
       "<function matplotlib.pyplot.show(close=None, block=None)>"
      ]
     },
     "execution_count": 24,
     "metadata": {},
     "output_type": "execute_result"
    },
    {
     "data": {
      "image/png": "[encoded data removed]",
      "text/plain": [
       "<Figure size 640x480 with 1 Axes>"
      ]
     },
     "metadata": {},
     "output_type": "display_data"
    }
   ],
   "source": [
    "#визуализируем выбросы для колонки skills_count\n",
    "sns.boxplot(data = df['skills_count'])\n",
    "plt.show"
   ]
  },
  {
   "cell_type": "code",
   "execution_count": 25,
   "metadata": {},
   "outputs": [],
   "source": [
    "zscore = scipy.stats.zscore(df['skills_count'])\n",
    "df_trimmed = df[~(zscore.abs() > 2)]"
   ]
  },
  {
   "cell_type": "code",
   "execution_count": 26,
   "metadata": {},
   "outputs": [
    {
     "data": {
      "text/plain": [
       "<function matplotlib.pyplot.show(close=None, block=None)>"
      ]
     },
     "execution_count": 26,
     "metadata": {},
     "output_type": "execute_result"
    },
    {
     "data": {
      "image/png": "[encoded data removed]",
      "text/plain": [
       "<Figure size 640x480 with 1 Axes>"
      ]
     },
     "metadata": {},
     "output_type": "display_data"
    }
   ],
   "source": [
    "#Проверяем успешность очистки\n",
    "sns.boxplot(data = df_trimmed['skills_count'])\n",
    "plt.show"
   ]
  },
  {
   "cell_type": "code",
   "execution_count": 27,
   "metadata": {},
   "outputs": [],
   "source": [
    "#Ура! Выбросов не обнаружено!"
   ]
  },
  {
   "cell_type": "code",
   "execution_count": 28,
   "metadata": {},
   "outputs": [
    {
     "data": {
      "text/plain": [
       "<function matplotlib.pyplot.show(close=None, block=None)>"
      ]
     },
     "execution_count": 28,
     "metadata": {},
     "output_type": "execute_result"
    },
    {
     "data": {
      "image/png": "[encoded data removed]",
      "text/plain": [
       "<Figure size 640x480 with 1 Axes>"
      ]
     },
     "metadata": {},
     "output_type": "display_data"
    }
   ],
   "source": [
    "#визуализируем выбросы для колонки reviewcount\n",
    "sns.boxplot(data = df['reviewcount'])\n",
    "plt.show"
   ]
  },
  {
   "cell_type": "code",
   "execution_count": 29,
   "metadata": {},
   "outputs": [
    {
     "name": "stdout",
     "output_type": "stream",
     "text": [
      "470.0 5600.0\n"
     ]
    }
   ],
   "source": [
    "#Определяем 1 и 3 перцентили для колонки reviewcount\n",
    "q3 = np.percentile(df['reviewcount'], 75)\n",
    "q1 = np.percentile(df['reviewcount'], 25)\n",
    "\n",
    "print(q1, q3)"
   ]
  },
  {
   "cell_type": "code",
   "execution_count": 30,
   "metadata": {},
   "outputs": [],
   "source": [
    "#Обрезаем датафрейм по границам\n",
    "df_trimmed2 = df[(df['reviewcount'] < q3) & (df['reviewcount'] > q1)]"
   ]
  },
  {
   "cell_type": "code",
   "execution_count": 31,
   "metadata": {},
   "outputs": [
    {
     "data": {
      "text/plain": [
       "<function matplotlib.pyplot.show(close=None, block=None)>"
      ]
     },
     "execution_count": 31,
     "metadata": {},
     "output_type": "execute_result"
    },
    {
     "data": {
      "image/png": "[encoded data removed]",
      "text/plain": [
       "<Figure size 640x480 with 1 Axes>"
      ]
     },
     "metadata": {},
     "output_type": "display_data"
    }
   ],
   "source": [
    "#визуализируем выбросы для колонки reviewcount\n",
    "sns.boxplot(data = df_trimmed2['reviewcount'])\n",
    "plt.show"
   ]
  },
  {
   "cell_type": "markdown",
   "metadata": {},
   "source": [
    "Ура! Выбросов не обнаружено!"
   ]
  },
  {
   "cell_type": "code",
   "execution_count": 32,
   "metadata": {},
   "outputs": [
    {
     "data": {
      "text/plain": [
       "<function matplotlib.pyplot.show(close=None, block=None)>"
      ]
     },
     "execution_count": 32,
     "metadata": {},
     "output_type": "execute_result"
    },
    {
     "data": {
      "image/png": "[encoded data removed]",
      "text/plain": [
       "<Figure size 640x480 with 1 Axes>"
      ]
     },
     "metadata": {},
     "output_type": "display_data"
    }
   ],
   "source": [
    "#визуализируем выбросы для колонки rating\n",
    "sns.boxplot(data = df['rating'])\n",
    "plt.show"
   ]
  },
  {
   "cell_type": "code",
   "execution_count": 33,
   "metadata": {},
   "outputs": [],
   "source": [
    "#усечем выбросы методом Винзора\n",
    "df_trimmed3 = df.copy()\n",
    "df_trimmed3['rating'] = stats.mstats.winsorize(df_trimmed3['rating'], limits=[0.05, 0.05])\n"
   ]
  },
  {
   "cell_type": "code",
   "execution_count": 34,
   "metadata": {},
   "outputs": [
    {
     "data": {
      "text/plain": [
       "<function matplotlib.pyplot.show(close=None, block=None)>"
      ]
     },
     "execution_count": 34,
     "metadata": {},
     "output_type": "execute_result"
    },
    {
     "data": {
      "image/png": "[encoded data removed]",
      "text/plain": [
       "<Figure size 640x480 with 1 Axes>"
      ]
     },
     "metadata": {},
     "output_type": "display_data"
    }
   ],
   "source": [
    "sns.boxplot(data = df_trimmed3['rating'])\n",
    "plt.show"
   ]
  },
  {
   "cell_type": "markdown",
   "metadata": {},
   "source": [
    "Ура! Выбросов не обнаружено!"
   ]
  },
  {
   "cell_type": "code",
   "execution_count": 35,
   "metadata": {},
   "outputs": [],
   "source": [
    "#создадим новый датасет без выбросов на основе трех предыдущих методов\n",
    "df_trimmed_final = df[~(zscore.abs() > 2)]\n",
    "df_trimmed_final = df_trimmed_final[(df_trimmed_final['reviewcount'] < q3) & (df_trimmed_final['reviewcount'] > q1)]\n",
    "df_trimmed_final['rating'] = stats.mstats.winsorize(df_trimmed_final['rating'], limits=[0.05, 0.05])\n"
   ]
  },
  {
   "cell_type": "markdown",
   "metadata": {},
   "source": [
    "<h2>Проверка Гипотез</h2>"
   ]
  },
  {
   "cell_type": "code",
   "execution_count": 36,
   "metadata": {},
   "outputs": [],
   "source": [
    "def check_hypothesis(pval,alpha):\n",
    "    if pval > alpha:\n",
    "        print('H0 не отвергаем')\n",
    "    else:\n",
    "        print('H0 можно отвергнуть')\n",
    "\n",
    "alpha = 0.05"
   ]
  },
  {
   "cell_type": "code",
   "execution_count": 37,
   "metadata": {},
   "outputs": [
    {
     "name": "stdout",
     "output_type": "stream",
     "text": [
      "4.768551010040838e-44\n",
      "H0 можно отвергнуть\n"
     ]
    }
   ],
   "source": [
    "#Распределение рейтингов в датасете является равномерным\n",
    "\n",
    "#Реальное распределение значений\n",
    "observed_frequencies = df_trimmed_final['rating'].value_counts()\n",
    "#Ожиданемое распределение значений\n",
    "expected_frequencies = [len(df_trimmed_final) / len(observed_frequencies)] * len(observed_frequencies)\n",
    "\n",
    "#критерий согласия хи-квадрат\n",
    "chi2_stat, p_value = chisquare(observed_frequencies, expected_frequencies)\n",
    "\n",
    "#выведем p-value и проверим гипотезу\n",
    "print(p_value)\n",
    "check_hypothesis(p_value,alpha)"
   ]
  },
  {
   "cell_type": "code",
   "execution_count": 51,
   "metadata": {},
   "outputs": [
    {
     "name": "stdout",
     "output_type": "stream",
     "text": [
      "0.00261036019898769\n",
      "H0 можно отвергнуть\n"
     ]
    }
   ],
   "source": [
    "#Количество отзывов не влияет на рейтинг\n",
    "\n",
    "#Сгруппируем отзывы по группам на основе числа значений\n",
    "df_trimmed_final['review_bins'] = pd.cut(df_trimmed_final['reviewcount'], bins=[0, 470, 1900,5600, np.inf], labels=['Low', 'Medium', 'High','Very High'])\n",
    "#Сгруппируем отзывы по группам на основе числа значений\n",
    "contingency_table = pd.crosstab(df_trimmed_final['review_bins'], df_trimmed_final['rating'])\n",
    "\n",
    "#критерий независимости хи-квадрат\n",
    "chi2_stat, p_value, _, _ = stats.chi2_contingency(contingency_table)\n",
    "\n",
    "#выведем p-value и проверим гипотезу\n",
    "print(p_value)\n",
    "check_hypothesis(p_value,alpha)"
   ]
  },
  {
   "cell_type": "code",
   "execution_count": 39,
   "metadata": {},
   "outputs": [
    {
     "name": "stdout",
     "output_type": "stream",
     "text": [
      "2.2764896994918095e-05\n",
      "H0 можно отвергнуть\n"
     ]
    }
   ],
   "source": [
    "#Средний рейтинг курсов не отличается от общего среднего\n",
    "\n",
    "#Выделим рейтинг в отдельную переменную\n",
    "course_ratings = df_trimmed_final['rating']\n",
    "\n",
    "#Одновыборочный t-тест\n",
    "t_stat, p_value = stats.ttest_1samp(course_ratings, popmean=df['rating'].mean()) \n",
    "\n",
    "#выведем p-value и проверим гипотезу \n",
    "print(p_value)\n",
    "check_hypothesis(p_value,alpha)"
   ]
  },
  {
   "cell_type": "code",
   "execution_count": 40,
   "metadata": {},
   "outputs": [
    {
     "name": "stdout",
     "output_type": "stream",
     "text": [
      "0.00894796605322837\n",
      "H0 можно отвергнуть\n"
     ]
    }
   ],
   "source": [
    "#Рейтинг курса не влияет на число отзывов\n",
    "#Выделим число отзывов в две группы по числу рейтинга\n",
    "low_rating = df_trimmed_final['reviewcount'][df_trimmed_final['rating']<4.6] \n",
    "high_rating = df_trimmed_final['reviewcount'][df_trimmed_final['rating']>4.6]\n",
    "\n",
    "#Тк выборки не равные выберем случайные значения выоского рейтинга по длине низкого \n",
    "random_high_rating = high_rating.sample(n=len(low_rating), replace=True)\n",
    "\n",
    "#Парный t-тест\n",
    "t_stat, p_value = stats.ttest_rel(low_rating, random_high_rating)\n",
    "\n",
    "#выведем p-value и проверим гипотезу\n",
    "print(p_value)\n",
    "check_hypothesis(p_value,alpha)"
   ]
  },
  {
   "cell_type": "code",
   "execution_count": 41,
   "metadata": {},
   "outputs": [
    {
     "name": "stdout",
     "output_type": "stream",
     "text": [
      "0.3060391927133375\n",
      "H0 не отвергаем\n"
     ]
    }
   ],
   "source": [
    "#Возможность получения кредитов за курс не влияет на количество отзывов \n",
    "\n",
    "#Выберем число отзывов на основе кредабилити\n",
    "credit_yes_reviews = df_trimmed_final[df_trimmed_final['crediteligibility']]['reviewcount']\n",
    "credit_no_reviews = df_trimmed_final[~df_trimmed_final['crediteligibility']]['reviewcount']\n",
    "\n",
    "#двухвыборочный t-тест\n",
    "t_stat, p_value = ttest_ind(credit_yes_reviews, credit_no_reviews)\n",
    "\n",
    "#выведем p-value и проверим гипотезу\n",
    "print(p_value)\n",
    "check_hypothesis(p_value,alpha)"
   ]
  },
  {
   "cell_type": "markdown",
   "metadata": {},
   "source": [
    "<h2>Визуализация</h2>"
   ]
  },
  {
   "cell_type": "code",
   "execution_count": 56,
   "metadata": {},
   "outputs": [
    {
     "data": {
      "image/png": "[encoded data removed]",
      "text/plain": [
       "<Figure size 640x480 with 1 Axes>"
      ]
     },
     "execution_count": 56,
     "metadata": {},
     "output_type": "execute_result"
    },
    {
     "data": {
      "image/png": "[encoded data removed]",
      "text/plain": [
       "<Figure size 640x480 with 1 Axes>"
      ]
     },
     "metadata": {},
     "output_type": "display_data"
    }
   ],
   "source": [
    "#График QQ \n",
    "sm.qqplot(df_trimmed_final.reviewcount, fit = True)"
   ]
  },
  {
   "cell_type": "code",
   "execution_count": 54,
   "metadata": {},
   "outputs": [
    {
     "data": {
      "image/png": "[encoded data removed]",
      "text/plain": [
       "<Figure size 640x480 with 1 Axes>"
      ]
     },
     "metadata": {},
     "output_type": "display_data"
    }
   ],
   "source": [
    "#График вероятностей\n",
    "stats.probplot(df_trimmed_final.reviewcount, dist ='norm',plot = pylab)\n",
    "pylab.show()"
   ]
  },
  {
   "cell_type": "code",
   "execution_count": 63,
   "metadata": {},
   "outputs": [
    {
     "data": {
      "image/png": "[encoded data removed]",
      "text/plain": [
       "<Figure size 640x480 with 1 Axes>"
      ]
     },
     "metadata": {},
     "output_type": "display_data"
    }
   ],
   "source": [
    "#График числа записей для категорий низкого и высокого рейтинга\n",
    "plt.hist(df_trimmed_final['reviewcount'][df_trimmed_final['rating']<4.6], alpha = 0.5,color = 'blue')\n",
    "plt.hist(df_trimmed_final['reviewcount'][df_trimmed_final['rating']>4.6], alpha = 0.5,color = 'red')\n",
    "plt.show()"
   ]
  },
  {
   "cell_type": "code",
   "execution_count": 45,
   "metadata": {},
   "outputs": [
    {
     "data": {
      "image/png": "[encoded data removed]",
      "text/plain": [
       "<Figure size 640x480 with 1 Axes>"
      ]
     },
     "metadata": {},
     "output_type": "display_data"
    }
   ],
   "source": [
    "#Распределение рейтинга\n",
    "df_trimmed_final['rating'].plot(kind = 'density')\n",
    "plt.show()"
   ]
  },
  {
   "cell_type": "code",
   "execution_count": 46,
   "metadata": {},
   "outputs": [
    {
     "data": {
      "image/png": "[encoded data removed]",
      "text/plain": [
       "<Figure size 640x480 with 1 Axes>"
      ]
     },
     "metadata": {},
     "output_type": "display_data"
    }
   ],
   "source": [
    "#гистограмма распределения рейтинга\n",
    "plt.hist(df_trimmed_final['rating'], bins = 20 , edgecolor = 'black')\n",
    "plt.show()"
   ]
  },
  {
   "cell_type": "code",
   "execution_count": 47,
   "metadata": {},
   "outputs": [
    {
     "data": {
      "image/png": "[encoded data removed]",
      "text/plain": [
       "<Figure size 640x480 with 1 Axes>"
      ]
     },
     "metadata": {},
     "output_type": "display_data"
    }
   ],
   "source": [
    "#гистограмма распределения числа отзывов\n",
    "plt.hist(df_trimmed_final['reviewcount'], bins = 50 , edgecolor = 'black')\n",
    "plt.show()"
   ]
  },
  {
   "cell_type": "markdown",
   "metadata": {},
   "source": [
    "<h2>Кластеризация</h2>"
   ]
  },
  {
   "cell_type": "code",
   "execution_count": 48,
   "metadata": {},
   "outputs": [],
   "source": [
    "#импортируем кластеры\n",
    "from sklearn.preprocessing import LabelEncoder\n",
    "from sklearn.cluster import KMeans"
   ]
  },
  {
   "cell_type": "code",
   "execution_count": 49,
   "metadata": {},
   "outputs": [
    {
     "data": {
      "image/png": "[encoded data removed]",
      "text/plain": [
       "<Figure size 1000x600 with 1 Axes>"
      ]
     },
     "metadata": {},
     "output_type": "display_data"
    }
   ],
   "source": [
    "#Обработаем категориальные переменныее\n",
    "cat_col = ['level','duration','crediteligibility','certificatetype']\n",
    "label_encoder = LabelEncoder()\n",
    "for x in cat_col:\n",
    "  df_trimmed_final[x] = label_encoder.fit_transform(np.array(df_trimmed_final[x]).reshape(-1, 1))\n",
    "  \n",
    "#Создадим датасет для кластеризации\n",
    "features_list = ['level','duration','crediteligibility','rating','reviewcount','average_rating_per_skill','average_skils_per_review','certificatetype']\n",
    "X = df_trimmed_final[features_list]\n",
    "\n",
    "#С помощью метода локтя определим оптимальное число кластеров\n",
    "inertia = []\n",
    "possible_cluster_counts = range(1,11)  \n",
    "\n",
    "for k in possible_cluster_counts:\n",
    "    kmeans = KMeans(n_clusters=k, random_state=42)\n",
    "    kmeans.fit(X)\n",
    "    inertia.append(kmeans.inertia_)\n",
    "\n",
    "plt.figure(figsize=(10, 6))\n",
    "plt.plot(possible_cluster_counts, inertia, marker='o', color='steelblue')\n",
    "plt.title('Метод локтя для поиска оптимального числа кластеров')\n",
    "plt.show()"
   ]
  },
  {
   "cell_type": "code",
   "execution_count": 50,
   "metadata": {},
   "outputs": [
    {
     "data": {
      "text/html": [
       "<div>\n",
       "<style scoped>\n",
       "    .dataframe tbody tr th:only-of-type {\n",
       "        vertical-align: middle;\n",
       "    }\n",
       "\n",
       "    .dataframe tbody tr th {\n",
       "        vertical-align: top;\n",
       "    }\n",
       "\n",
       "    .dataframe thead th {\n",
       "        text-align: right;\n",
       "    }\n",
       "</style>\n",
       "<table border=\"1\" class=\"dataframe\">\n",
       "  <thead>\n",
       "    <tr style=\"text-align: right;\">\n",
       "      <th></th>\n",
       "      <th>level</th>\n",
       "      <th>duration</th>\n",
       "      <th>crediteligibility</th>\n",
       "      <th>rating</th>\n",
       "      <th>reviewcount</th>\n",
       "      <th>average_rating_per_skill</th>\n",
       "      <th>average_skils_per_review</th>\n",
       "      <th>certificatetype</th>\n",
       "    </tr>\n",
       "    <tr>\n",
       "      <th>cluster</th>\n",
       "      <th></th>\n",
       "      <th></th>\n",
       "      <th></th>\n",
       "      <th></th>\n",
       "      <th></th>\n",
       "      <th></th>\n",
       "      <th></th>\n",
       "      <th></th>\n",
       "    </tr>\n",
       "  </thead>\n",
       "  <tbody>\n",
       "    <tr>\n",
       "      <th>0</th>\n",
       "      <td>1.352941</td>\n",
       "      <td>1.065359</td>\n",
       "      <td>0.019608</td>\n",
       "      <td>4.726144</td>\n",
       "      <td>2621.568627</td>\n",
       "      <td>1.556572</td>\n",
       "      <td>0.003676</td>\n",
       "      <td>1.320261</td>\n",
       "    </tr>\n",
       "    <tr>\n",
       "      <th>1</th>\n",
       "      <td>1.366071</td>\n",
       "      <td>0.946429</td>\n",
       "      <td>0.035714</td>\n",
       "      <td>4.680804</td>\n",
       "      <td>1037.566964</td>\n",
       "      <td>1.431821</td>\n",
       "      <td>0.010114</td>\n",
       "      <td>1.169643</td>\n",
       "    </tr>\n",
       "    <tr>\n",
       "      <th>2</th>\n",
       "      <td>1.600000</td>\n",
       "      <td>1.157895</td>\n",
       "      <td>0.021053</td>\n",
       "      <td>4.717895</td>\n",
       "      <td>4433.684211</td>\n",
       "      <td>1.251151</td>\n",
       "      <td>0.002464</td>\n",
       "      <td>1.357895</td>\n",
       "    </tr>\n",
       "  </tbody>\n",
       "</table>\n",
       "</div>"
      ],
      "text/plain": [
       "            level  duration  crediteligibility    rating  reviewcount  \\\n",
       "cluster                                                                 \n",
       "0        1.352941  1.065359           0.019608  4.726144  2621.568627   \n",
       "1        1.366071  0.946429           0.035714  4.680804  1037.566964   \n",
       "2        1.600000  1.157895           0.021053  4.717895  4433.684211   \n",
       "\n",
       "         average_rating_per_skill  average_skils_per_review  certificatetype  \n",
       "cluster                                                                       \n",
       "0                        1.556572                  0.003676         1.320261  \n",
       "1                        1.431821                  0.010114         1.169643  \n",
       "2                        1.251151                  0.002464         1.357895  "
      ]
     },
     "execution_count": 50,
     "metadata": {},
     "output_type": "execute_result"
    }
   ],
   "source": [
    "#Оптимальное число кластеров - 3, \n",
    "#распределим значения по кластерам и проанализируем их\n",
    "kmeans = KMeans(n_clusters=3, random_state=42)\n",
    "X['cluster'] = kmeans.fit_predict(X)\n",
    "\n",
    "#Сгрупируем значения по кластерам и посмотрим среднее значение для каждого класера\n",
    "cluster_summary = X.groupby('cluster').mean()\n",
    "cluster_summary[features_list]"
   ]
  }
 ],
 "metadata": {
  "kernelspec": {
   "display_name": "Python 3 (ipykernel)",
   "language": "python",
   "name": "python3"
  },
  "language_info": {
   "codemirror_mode": {
    "name": "ipython",
    "version": 3
   },
   "file_extension": ".py",
   "mimetype": "text/x-python",
   "name": "python",
   "nbconvert_exporter": "python",
   "pygments_lexer": "ipython3",
   "version": "3.9.13"
  },
  "orig_nbformat": 4
 },
 "nbformat": 4,
 "nbformat_minor": 2
}
